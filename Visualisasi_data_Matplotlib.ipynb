{
  "nbformat": 4,
  "nbformat_minor": 0,
  "metadata": {
    "colab": {
      "provenance": [],
      "authorship_tag": "ABX9TyM4+CNGHbbsQ9rIZbmO7qJj",
      "include_colab_link": true
    },
    "kernelspec": {
      "name": "python3",
      "display_name": "Python 3"
    },
    "language_info": {
      "name": "python"
    }
  },
  "cells": [
    {
      "cell_type": "markdown",
      "metadata": {
        "id": "view-in-github",
        "colab_type": "text"
      },
      "source": [
        "<a href=\"https://colab.research.google.com/github/sedrisella/UAS-AI/blob/main/Visualisasi_data_Matplotlib.ipynb\" target=\"_parent\"><img src=\"https://colab.research.google.com/assets/colab-badge.svg\" alt=\"Open In Colab\"/></a>"
      ]
    },
    {
      "cell_type": "markdown",
      "source": [
        "\n",
        "# Import CSV\n",
        "Kita dapat melihat/mengcek data CSV dengan \"Library Pandas DataFrame\"  seperti berikut.\n",
        "\n",
        "\n"
      ],
      "metadata": {
        "id": "6F8NZdHKt8qi"
      }
    },
    {
      "cell_type": "code",
      "execution_count": 1,
      "metadata": {
        "colab": {
          "base_uri": "https://localhost:8080/",
          "height": 394
        },
        "id": "AF6DH7-hqmI8",
        "outputId": "46be7b60-01cd-4c72-9be1-f93531cd3f7c"
      },
      "outputs": [
        {
          "output_type": "execute_result",
          "data": {
            "text/plain": [
              "               Nama Band  Tahun Berdiri  Pendengar per Bulan\n",
              "0               Slipknot           1995              6603189\n",
              "1            Linkin Park           1996             17418362\n",
              "2      Avenged Sevenfold           1999              5410274\n",
              "3   Bring Me the Horizon           2004              4428374\n",
              "4              Green Day           1987             15692462\n",
              "5                   Muse           1994              8528417\n",
              "6         As I Lay Dying           2000               996422\n",
              "7                Trivium           1999              1880758\n",
              "8            Limp Bizkit           1994              5910689\n",
              "9               Skid Row           1986              2492044\n",
              "10              Bon Jovi           1983             15581843"
            ],
            "text/html": [
              "\n",
              "  <div id=\"df-3f9d25eb-5069-4717-9e3c-44f1ea6cc0e7\">\n",
              "    <div class=\"colab-df-container\">\n",
              "      <div>\n",
              "<style scoped>\n",
              "    .dataframe tbody tr th:only-of-type {\n",
              "        vertical-align: middle;\n",
              "    }\n",
              "\n",
              "    .dataframe tbody tr th {\n",
              "        vertical-align: top;\n",
              "    }\n",
              "\n",
              "    .dataframe thead th {\n",
              "        text-align: right;\n",
              "    }\n",
              "</style>\n",
              "<table border=\"1\" class=\"dataframe\">\n",
              "  <thead>\n",
              "    <tr style=\"text-align: right;\">\n",
              "      <th></th>\n",
              "      <th>Nama Band</th>\n",
              "      <th>Tahun Berdiri</th>\n",
              "      <th>Pendengar per Bulan</th>\n",
              "    </tr>\n",
              "  </thead>\n",
              "  <tbody>\n",
              "    <tr>\n",
              "      <th>0</th>\n",
              "      <td>Slipknot</td>\n",
              "      <td>1995</td>\n",
              "      <td>6603189</td>\n",
              "    </tr>\n",
              "    <tr>\n",
              "      <th>1</th>\n",
              "      <td>Linkin Park</td>\n",
              "      <td>1996</td>\n",
              "      <td>17418362</td>\n",
              "    </tr>\n",
              "    <tr>\n",
              "      <th>2</th>\n",
              "      <td>Avenged Sevenfold</td>\n",
              "      <td>1999</td>\n",
              "      <td>5410274</td>\n",
              "    </tr>\n",
              "    <tr>\n",
              "      <th>3</th>\n",
              "      <td>Bring Me the Horizon</td>\n",
              "      <td>2004</td>\n",
              "      <td>4428374</td>\n",
              "    </tr>\n",
              "    <tr>\n",
              "      <th>4</th>\n",
              "      <td>Green Day</td>\n",
              "      <td>1987</td>\n",
              "      <td>15692462</td>\n",
              "    </tr>\n",
              "    <tr>\n",
              "      <th>5</th>\n",
              "      <td>Muse</td>\n",
              "      <td>1994</td>\n",
              "      <td>8528417</td>\n",
              "    </tr>\n",
              "    <tr>\n",
              "      <th>6</th>\n",
              "      <td>As I Lay Dying</td>\n",
              "      <td>2000</td>\n",
              "      <td>996422</td>\n",
              "    </tr>\n",
              "    <tr>\n",
              "      <th>7</th>\n",
              "      <td>Trivium</td>\n",
              "      <td>1999</td>\n",
              "      <td>1880758</td>\n",
              "    </tr>\n",
              "    <tr>\n",
              "      <th>8</th>\n",
              "      <td>Limp Bizkit</td>\n",
              "      <td>1994</td>\n",
              "      <td>5910689</td>\n",
              "    </tr>\n",
              "    <tr>\n",
              "      <th>9</th>\n",
              "      <td>Skid Row</td>\n",
              "      <td>1986</td>\n",
              "      <td>2492044</td>\n",
              "    </tr>\n",
              "    <tr>\n",
              "      <th>10</th>\n",
              "      <td>Bon Jovi</td>\n",
              "      <td>1983</td>\n",
              "      <td>15581843</td>\n",
              "    </tr>\n",
              "  </tbody>\n",
              "</table>\n",
              "</div>\n",
              "      <button class=\"colab-df-convert\" onclick=\"convertToInteractive('df-3f9d25eb-5069-4717-9e3c-44f1ea6cc0e7')\"\n",
              "              title=\"Convert this dataframe to an interactive table.\"\n",
              "              style=\"display:none;\">\n",
              "        \n",
              "  <svg xmlns=\"http://www.w3.org/2000/svg\" height=\"24px\"viewBox=\"0 0 24 24\"\n",
              "       width=\"24px\">\n",
              "    <path d=\"M0 0h24v24H0V0z\" fill=\"none\"/>\n",
              "    <path d=\"M18.56 5.44l.94 2.06.94-2.06 2.06-.94-2.06-.94-.94-2.06-.94 2.06-2.06.94zm-11 1L8.5 8.5l.94-2.06 2.06-.94-2.06-.94L8.5 2.5l-.94 2.06-2.06.94zm10 10l.94 2.06.94-2.06 2.06-.94-2.06-.94-.94-2.06-.94 2.06-2.06.94z\"/><path d=\"M17.41 7.96l-1.37-1.37c-.4-.4-.92-.59-1.43-.59-.52 0-1.04.2-1.43.59L10.3 9.45l-7.72 7.72c-.78.78-.78 2.05 0 2.83L4 21.41c.39.39.9.59 1.41.59.51 0 1.02-.2 1.41-.59l7.78-7.78 2.81-2.81c.8-.78.8-2.07 0-2.86zM5.41 20L4 18.59l7.72-7.72 1.47 1.35L5.41 20z\"/>\n",
              "  </svg>\n",
              "      </button>\n",
              "      \n",
              "  <style>\n",
              "    .colab-df-container {\n",
              "      display:flex;\n",
              "      flex-wrap:wrap;\n",
              "      gap: 12px;\n",
              "    }\n",
              "\n",
              "    .colab-df-convert {\n",
              "      background-color: #E8F0FE;\n",
              "      border: none;\n",
              "      border-radius: 50%;\n",
              "      cursor: pointer;\n",
              "      display: none;\n",
              "      fill: #1967D2;\n",
              "      height: 32px;\n",
              "      padding: 0 0 0 0;\n",
              "      width: 32px;\n",
              "    }\n",
              "\n",
              "    .colab-df-convert:hover {\n",
              "      background-color: #E2EBFA;\n",
              "      box-shadow: 0px 1px 2px rgba(60, 64, 67, 0.3), 0px 1px 3px 1px rgba(60, 64, 67, 0.15);\n",
              "      fill: #174EA6;\n",
              "    }\n",
              "\n",
              "    [theme=dark] .colab-df-convert {\n",
              "      background-color: #3B4455;\n",
              "      fill: #D2E3FC;\n",
              "    }\n",
              "\n",
              "    [theme=dark] .colab-df-convert:hover {\n",
              "      background-color: #434B5C;\n",
              "      box-shadow: 0px 1px 3px 1px rgba(0, 0, 0, 0.15);\n",
              "      filter: drop-shadow(0px 1px 2px rgba(0, 0, 0, 0.3));\n",
              "      fill: #FFFFFF;\n",
              "    }\n",
              "  </style>\n",
              "\n",
              "      <script>\n",
              "        const buttonEl =\n",
              "          document.querySelector('#df-3f9d25eb-5069-4717-9e3c-44f1ea6cc0e7 button.colab-df-convert');\n",
              "        buttonEl.style.display =\n",
              "          google.colab.kernel.accessAllowed ? 'block' : 'none';\n",
              "\n",
              "        async function convertToInteractive(key) {\n",
              "          const element = document.querySelector('#df-3f9d25eb-5069-4717-9e3c-44f1ea6cc0e7');\n",
              "          const dataTable =\n",
              "            await google.colab.kernel.invokeFunction('convertToInteractive',\n",
              "                                                     [key], {});\n",
              "          if (!dataTable) return;\n",
              "\n",
              "          const docLinkHtml = 'Like what you see? Visit the ' +\n",
              "            '<a target=\"_blank\" href=https://colab.research.google.com/notebooks/data_table.ipynb>data table notebook</a>'\n",
              "            + ' to learn more about interactive tables.';\n",
              "          element.innerHTML = '';\n",
              "          dataTable['output_type'] = 'display_data';\n",
              "          await google.colab.output.renderOutput(dataTable, element);\n",
              "          const docLink = document.createElement('div');\n",
              "          docLink.innerHTML = docLinkHtml;\n",
              "          element.appendChild(docLink);\n",
              "        }\n",
              "      </script>\n",
              "    </div>\n",
              "  </div>\n",
              "  "
            ]
          },
          "metadata": {},
          "execution_count": 1
        }
      ],
      "source": [
        "import pandas as pd\n",
        "\n",
        "pd=pd.read_csv(\"dataspotify.csv\")\n",
        "pd"
      ]
    },
    {
      "cell_type": "markdown",
      "source": [
        "Jika Nilai-nilai record sudah terisi selayaknya tabel pada database.Jadi tidak perlu mengunakan kelas Counter.\n",
        "\n",
        "Jika Instruksi soal seperti ini :\n",
        "Buatlah Plot bar atau grafik batang dengan memvisualisasikan jumlah pendengar per bulan berdasarkan Nama Band menggunakan dataset tersebut.\n",
        "\n",
        "Maka buatlah Nama band(Sebagai sumbu X) dan pendengar per Bulan(sebagai sumbu Y) Menjadi variabel dengan tipe data List,dengan cara:"
      ],
      "metadata": {
        "id": "JvP-iN1cvm83"
      }
    },
    {
      "cell_type": "code",
      "source": [
        "nama_band = list(pd['Nama Band'])\n",
        "ppb = list(pd['Pendengar per Bulan'])\n",
        "\n",
        "print(nama_band)\n",
        "print(ppb)"
      ],
      "metadata": {
        "colab": {
          "base_uri": "https://localhost:8080/"
        },
        "id": "JX38zW9tw-Mj",
        "outputId": "ab048e08-7770-4091-b586-88fced30c33f"
      },
      "execution_count": 7,
      "outputs": [
        {
          "output_type": "stream",
          "name": "stdout",
          "text": [
            "['Slipknot', 'Linkin Park', 'Avenged Sevenfold', 'Bring Me the Horizon', 'Green Day', 'Muse', 'As I Lay Dying', 'Trivium', 'Limp Bizkit', 'Skid Row', 'Bon Jovi']\n",
            "[6603189, 17418362, 5410274, 4428374, 15692462, 8528417, 996422, 1880758, 5910689, 2492044, 15581843]\n"
          ]
        }
      ]
    },
    {
      "cell_type": "markdown",
      "source": [
        "Selanjutnya membuat Plot/Grafik batang:"
      ],
      "metadata": {
        "id": "1EFfd9U9yY44"
      }
    },
    {
      "cell_type": "code",
      "source": [
        "import matplotlib.pyplot as plt\n",
        "\n",
        "#Inisialisasi\n",
        "nama_band=['Slipknot', 'Linkin Park', 'Avenged Sevenfold', 'Bring Me the Horizon', 'Green Day', 'Muse', 'As I Lay Dying', 'Trivium', 'Limp Bizkit', 'Skid Row', 'Bon Jovi']\n",
        "ppb=[6603189, 17418362, 5410274, 4428374, 15692462, 8528417, 996422, 1880758, 5910689, 2492044, 15581843]\n",
        "\n",
        "plt.bar(nama_band,ppb)\n",
        "\n",
        "plt.title(\"Pendengar per Bulan\")\n",
        "plt.xlabel(\"Nama Band\")\n",
        "plt.ylabel(\"Jumlah pendengar perbulan\")\n",
        "plt.show()\n"
      ],
      "metadata": {
        "colab": {
          "base_uri": "https://localhost:8080/",
          "height": 295
        },
        "id": "vhI0U4jIyQgT",
        "outputId": "c608f99a-e105-4e27-95b4-5327ca934276"
      },
      "execution_count": 8,
      "outputs": [
        {
          "output_type": "display_data",
          "data": {
            "text/plain": [
              "<Figure size 432x288 with 1 Axes>"
            ],
            "image/png": "[encoded data removed]"
          },
          "metadata": {
            "needs_background": "light"
          }
        }
      ]
    },
    {
      "cell_type": "code",
      "source": [
        "import matplotlib.pyplot as plt\n",
        "\n",
        "#Inisialisasi\n",
        "nama_band=['Slipknot', 'Linkin Park', 'Avenged Sevenfold', 'Bring Me the Horizon', 'Green Day', 'Muse', 'As I Lay Dying', 'Trivium', 'Limp Bizkit', 'Skid Row', 'Bon Jovi']\n",
        "ppb=[6603189, 17418362, 5410274, 4428374, 15692462, 8528417, 996422, 1880758, 5910689, 2492044, 15581843]\n",
        "\n",
        "plt.barh(nama_band,ppb)\n",
        "\n",
        "plt.title(\"Pendengar per Bulan\")\n",
        "plt.xlabel(\"Jumlah pendengar perbulan\")\n",
        "plt.ylabel(\"Nama Band\")\n",
        "plt.show()\n"
      ],
      "metadata": {
        "colab": {
          "base_uri": "https://localhost:8080/",
          "height": 295
        },
        "id": "0dt7e2_G4zz7",
        "outputId": "50eb0023-c6f3-4571-bcaa-407d656a5b3c"
      },
      "execution_count": 10,
      "outputs": [
        {
          "output_type": "display_data",
          "data": {
            "text/plain": [
              "<Figure size 432x288 with 1 Axes>"
            ],
            "image/png": "[encoded data removed]"
          },
          "metadata": {
            "needs_background": "light"
          }
        }
      ]
    }
  ]
}